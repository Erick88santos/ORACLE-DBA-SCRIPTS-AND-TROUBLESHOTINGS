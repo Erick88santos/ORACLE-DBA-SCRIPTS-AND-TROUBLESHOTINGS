{
  "nbformat": 4,
  "nbformat_minor": 0,
  "metadata": {
    "colab": {
      "provenance": []
    },
    "kernelspec": {
      "name": "python3",
      "display_name": "Python 3"
    },
    "language_info": {
      "name": "python"
    }
  },
  "cells": [
    {
      "cell_type": "markdown",
      "source": [
        "#**Configurar o Statspack no Oracle Database**"
      ],
      "metadata": {
        "id": "O-hRYgFK-WOl"
      }
    },
    {
      "cell_type": "markdown",
      "source": [
        "Para configurar o Statspack no Oracle Database, siga estas etapas:\n",
        "1.\t**Conectar-se como DBA:** Utilize um cliente SQL ou a linha de comando para se conectar ao Oracle Database como um usuário com privilégios de DBA (Database Administrator).\n",
        "2.\t**Criar a Tabela de Estatísticas:** Execute o script spcreate.sql, localizado no diretório $ORACLE_HOME/rdbms/admin, para criar a tabela de estatísticas do Statspack. Este script cria a tabela STATSPACK no schema selecionado.\n",
        "\n",
        "``@?/rdbms/admin/spcreate.sql``\n",
        "\n",
        "3. **Configurar o Schema de Coleta de Estatísticas:** Defina o schema onde as estatísticas do Statspack serão armazenadas. Isso é feito alterando a variável de ambiente STATSOWN para o nome do schema desejado. Por exemplo, para definir o schema como **STATPACK:**\n",
        "\n",
        "``ALTER SESSION SET EVENTS '10401 TRACE NAME CONTEXT FOREVER, LEVEL 1';``\n",
        "\n",
        "``ALTER SYSTEM SET STATISTICS_LEVEL = TYPICAL SCOPE = BOTH;``\n",
        "\n",
        "4. **Executar a Coleta de Estatísticas:** Para iniciar a coleta de estatísticas, execute o procedimento statspack.snap especificando o intervalo de coleta desejado. Por exemplo, para coletar estatísticas a cada hora:\n",
        "\n",
        "``EXEC statspack.snap;``\n",
        "\n",
        "5. **Gerar Relatórios de Desempenho:** Para gerar um relatório de desempenho com base nas estatísticas coletadas, execute o procedimento *statspack.report.* Por exemplo, para gerar um relatório para o último snapshot:\n",
        "\n",
        "``SET LONG 1000000``\n",
        "``SET PAGESIZE 1000``\n",
        "``SET LINESIZE 200``\n",
        "``SELECT * FROM TABLE(statspack.snap);``\n",
        "\n",
        "6. **Automatizar a Coleta de Estatísticas (Opcional):** Você pode configurar um job no Oracle Scheduler para executar o procedimento statspack.snap periodicamente e automatizar a coleta de estatísticas.\n",
        "\n",
        "Lembre-se de revisar a documentação do Oracle Database e adaptar essas instruções de acordo com a sua versão específica do banco de dados e requisitos do seu ambiente."
      ],
      "metadata": {
        "id": "ba7gcQte-eek"
      }
    }
  ]
}