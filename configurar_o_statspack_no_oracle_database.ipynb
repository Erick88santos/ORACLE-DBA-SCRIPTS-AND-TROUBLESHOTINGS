{
  "nbformat": 4,
  "nbformat_minor": 0,
  "metadata": {
    "colab": {
      "provenance": [],
      "toc_visible": true,
      "authorship_tag": "ABX9TyOFULif/nNut1/E68J2hUCi",
      "include_colab_link": true
    },
    "kernelspec": {
      "name": "python3",
      "display_name": "Python 3"
    },
    "language_info": {
      "name": "python"
    }
  },
  "cells": [
    {
      "cell_type": "markdown",
      "metadata": {
        "id": "view-in-github",
        "colab_type": "text"
      },
      "source": [
        "<a href=\"https://colab.research.google.com/github/Erick88santos/ORACLE-DBA-SCRIPTS-AND-TROUBLESHOTINGS/blob/main/configurar_o_statspack_no_oracle_database.ipynb\" target=\"_parent\"><img src=\"https://colab.research.google.com/assets/colab-badge.svg\" alt=\"Open In Colab\"/></a>"
      ]
    },
    {
      "cell_type": "markdown",
      "source": [
        "#**Configurar o Statspack no Oracle Database**"
      ],
      "metadata": {
        "id": "O-hRYgFK-WOl"
      }
    },
    {
      "cell_type": "markdown",
      "source": [
        "Para configurar o Statspack no Oracle Database, siga estas etapas:\n",
        "#1.\t**Conectar-se como DBA:** Utilize um cliente SQL ou a linha de comando para se conectar ao Oracle Database como um usuário com privilégios de DBA (Database Administrator).\n"
      ],
      "metadata": {
        "id": "ba7gcQte-eek"
      }
    },
    {
      "cell_type": "markdown",
      "source": [
        "\n",
        "#2.\t **Criar a Tabela de Estatísticas:** Execute o script spcreate.sql, localizado no diretório $ORACLE_HOME/rdbms/admin, para criar a tabela de estatísticas do Statspack. Este script cria a tabela STATSPACK no schema selecionado.\n",
        "\n",
        "``@?/rdbms/admin/spcreate.sql``\n",
        "\n"
      ],
      "metadata": {
        "id": "ikXo95xLLo4t"
      }
    },
    {
      "cell_type": "markdown",
      "source": [
        "#3. **Configurar o Schema de Coleta de Estatísticas:** Defina o schema onde as estatísticas do Statspack serão armazenadas. Isso é feito alterando a variável de ambiente STATSOWN para o nome do schema desejado. Por exemplo, para definir o schema como **STATPACK:**\n",
        "\n",
        "``ALTER SESSION SET EVENTS '10401 TRACE NAME CONTEXT FOREVER, LEVEL 1';``\n",
        "\n",
        "``ALTER SYSTEM SET STATISTICS_LEVEL = TYPICAL SCOPE = BOTH;``\n",
        "\n"
      ],
      "metadata": {
        "id": "Md5oyYPfLuP_"
      }
    },
    {
      "cell_type": "markdown",
      "source": [
        "#4. **Executar a Coleta de Estatísticas:** Para iniciar a coleta de estatísticas, execute o procedimento statspack.snap especificando o intervalo de coleta desejado. Por exemplo, para coletar estatísticas a cada hora:\n",
        "\n",
        "``EXEC statspack.snap;``\n",
        "\n"
      ],
      "metadata": {
        "id": "P9uUVyBXL0rM"
      }
    },
    {
      "cell_type": "markdown",
      "source": [
        "#5. **Gerar Relatórios de Desempenho:** Para gerar um relatório de desempenho com base nas estatísticas coletadas, execute o procedimento *statspack.report.* Por exemplo, para gerar um relatório para o último snapshot:\n",
        "\n",
        "``SET LONG 1000000``\n",
        "``SET PAGESIZE 1000``\n",
        "``SET LINESIZE 200``\n",
        "``SELECT * FROM TABLE(statspack.snap);``\n",
        "\n"
      ],
      "metadata": {
        "id": "ExdKQwr4L_jD"
      }
    },
    {
      "cell_type": "markdown",
      "source": [
        "#6. **Automatizar a Coleta de Estatísticas (Opcional):** Você pode configurar um job no Oracle Scheduler para executar o procedimento statspack.snap periodicamente e automatizar a coleta de estatísticas.\n",
        "\n",
        "Lembre-se de revisar a documentação do Oracle Database e adaptar essas instruções de acordo com a sua versão específica do banco de dados e requisitos do seu ambiente."
      ],
      "metadata": {
        "id": "eBnSuMd2MCF-"
      }
    },
    {
      "cell_type": "markdown",
      "source": [
        "#*Para automatizar a coleta de estatísticas com o Statspack no Oracle Database, você pode usar o Oracle Scheduler para agendar a execução do procedimento `statspack.snap` em intervalos regulares. Aqui estão os passos para criar essa automação:*"
      ],
      "metadata": {
        "id": "__H4EkMsNDVG"
      }
    },
    {
      "cell_type": "markdown",
      "source": [
        "\n",
        "\n",
        "#1. **Criar um Job no Oracle Scheduler**: Use o seguinte comando SQL para criar um job no Oracle Scheduler que executará o procedimento `statspack.snap` a cada hora:\n",
        "\n",
        "   ```sql\n",
        "   BEGIN\n",
        "     DBMS_SCHEDULER.create_job (\n",
        "       job_name        => 'COLETA_STATS',\n",
        "       job_type        => 'PLSQL_BLOCK',\n",
        "       job_action      => 'BEGIN statspack.snap; END;',\n",
        "       start_date      => SYSTIMESTAMP,\n",
        "       repeat_interval => 'FREQ=HOURLY',\n",
        "       enabled         => TRUE\n",
        "     );\n",
        "   END;\n",
        "   /\n",
        "   ```\n",
        "\n",
        "   Neste exemplo, o job é criado com o nome `COLETA_STATS`, e o procedimento `statspack.snap` é executado a cada hora.\n",
        "\n"
      ],
      "metadata": {
        "id": "i1mu3ekNGGE5"
      }
    },
    {
      "cell_type": "markdown",
      "source": [
        "#2. **Verificar a Configuração do Job**: Você pode verificar se o job foi criado corretamente consultando a view `DBA_SCHEDULER_JOBS`. Por exemplo:\n",
        "\n",
        "   ```sql\n",
        "   SELECT job_name, enabled FROM DBA_SCHEDULER_JOBS WHERE job_name = 'COLETA_STATS';\n",
        "   ```\n",
        "\n",
        "   Certifique-se de que o job esteja habilitado (`ENABLED = TRUE`).\n",
        "\n"
      ],
      "metadata": {
        "id": "Jrb-9sRLMy1u"
      }
    },
    {
      "cell_type": "markdown",
      "source": [
        "#3. **Monitorar a Execução do Job**: Você pode monitorar a execução do job verificando a view `DBA_SCHEDULER_JOB_RUN_DETAILS`. Por exemplo, para ver os últimos 10 históricos de execução do job:\n",
        "\n",
        "   ```sql\n",
        "   SELECT * FROM DBA_SCHEDULER_JOB_RUN_DETAILS WHERE job_name = 'COLETA_STATS' ORDER BY log_date DESC FETCH FIRST 10 ROWS ONLY;\n",
        "   ```\n",
        "\n"
      ],
      "metadata": {
        "id": "jSnq4XN6M4dI"
      }
    },
    {
      "cell_type": "markdown",
      "source": [
        "#4. **Parar ou Excluir o Job (Opcional)**: Se desejar parar ou excluir o job no futuro, você pode usar os seguintes comandos:\n",
        "\n",
        "   - Para parar o job:\n",
        "\n",
        "     ```sql\n",
        "     BEGIN\n",
        "       DBMS_SCHEDULER.disable('COLETA_STATS');\n",
        "     END;\n",
        "     /\n",
        "     ```\n",
        "\n",
        "   - Para excluir o job:\n",
        "\n",
        "     ```sql\n",
        "     BEGIN\n",
        "       DBMS_SCHEDULER.drop_job('COLETA_STATS');\n",
        "     END;\n",
        "     /\n",
        "     ```\n",
        "\n",
        "Esses são os passos básicos para automatizar a coleta de estatísticas com o Statspack usando o Oracle Scheduler. Certifique-se de ajustar a frequência e outros parâmetros conforme necessário para atender aos requisitos do seu ambiente.\n"
      ],
      "metadata": {
        "id": "lCEn-rIEM7_M"
      }
    },
    {
      "cell_type": "markdown",
      "source": [
        "Para criar um job no Oracle Scheduler que execute o procedimento `statspack.snap` a cada 3 minutos, você pode usar o seguinte comando SQL:\n",
        "\n",
        "```sql\n",
        "BEGIN\n",
        "  DBMS_SCHEDULER.create_job (\n",
        "    job_name        => 'COLETA_STATS',\n",
        "    job_type        => 'PLSQL_BLOCK',\n",
        "    job_action      => 'BEGIN statspack.snap; END;',\n",
        "    start_date      => SYSTIMESTAMP,\n",
        "    repeat_interval => 'FREQ=MINUTELY; INTERVAL=3',\n",
        "    enabled         => TRUE\n",
        "  );\n",
        "END;\n",
        "/\n",
        "```\n",
        "\n",
        "Neste exemplo, o job é criado com o nome `COLETA_STATS`, e o procedimento `statspack.snap` é executado a cada 3 minutos. Certifique-se de que o job esteja habilitado (`ENABLED = TRUE`).\n",
        "\n",
        "Para verificar se o job foi criado corretamente, você pode consultar a view `DBA_SCHEDULER_JOBS`:\n",
        "\n",
        "```sql\n",
        "SELECT job_name, enabled FROM DBA_SCHEDULER_JOBS WHERE job_name = 'COLETA_STATS';\n",
        "```\n",
        "\n",
        "Você também pode monitorar a execução do job consultando a view `DBA_SCHEDULER_JOB_RUN_DETAILS`:\n",
        "\n",
        "```sql\n",
        "SELECT * FROM DBA_SCHEDULER_JOB_RUN_DETAILS WHERE job_name = 'COLETA_STATS' ORDER BY log_date DESC FETCH FIRST 10 ROWS ONLY;\n",
        "```\n",
        "\n",
        "Lembre-se de ajustar os parâmetros conforme necessário para atender aos requisitos do seu ambiente."
      ],
      "metadata": {
        "id": "aUTAk5MgLf2M"
      }
    },
    {
      "cell_type": "markdown",
      "source": [
        "#**OUTRA FORMA: Para criar um job no Oracle Scheduler que execute o procedimento `statspack.snap` a cada 3 minutos, você pode seguir este exemplo:**\n",
        "\n",
        "```sql\n",
        "BEGIN\n",
        "  DBMS_SCHEDULER.create_job (\n",
        "    job_name        => 'COLETA_STATS',\n",
        "    job_type        => 'PLSQL_BLOCK',\n",
        "    job_action      => 'BEGIN statspack.snap; END;',\n",
        "    start_date      => SYSTIMESTAMP,\n",
        "    repeat_interval => 'FREQ=MINUTELY; INTERVAL=3',\n",
        "    enabled         => TRUE\n",
        "  );\n",
        "END;\n",
        "/\n",
        "```\n",
        "\n",
        "Neste exemplo, o job é criado com o nome `COLETA_STATS`, e o procedimento `statspack.snap` é executado a cada 3 minutos. O parâmetro `repeat_interval` é configurado para `FREQ=MINUTELY` para especificar a frequência de execução por minutos e `INTERVAL=3` para indicar que o intervalo entre as execuções é de 3 minutos.\n",
        "\n",
        "Após a execução bem-sucedida desse script, o job será criado e iniciará a coleta de estatísticas com o Statspack a cada 3 minutos. Certifique-se de que o job esteja habilitado para que seja executado conforme configurado."
      ],
      "metadata": {
        "id": "WM11jZEwNHr6"
      }
    }
  ]
}